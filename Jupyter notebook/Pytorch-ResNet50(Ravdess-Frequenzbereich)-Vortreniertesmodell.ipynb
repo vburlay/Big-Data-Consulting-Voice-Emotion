{
 "cells": [
  {
   "cell_type": "markdown",
   "metadata": {},
   "source": [
    "# Die Stimmungserkennung (SER)"
   ]
  },
  {
   "cell_type": "markdown",
   "metadata": {},
   "source": [
    "## Inhalt\n",
    "\n",
    "* [Tensorboard](#Tensorboard)\n",
    "* [Python-Bibliotheken](#Bibliotheken)\n",
    "* [Die Vorverarbeitung](#Vorverarbeitung)  \n",
    "    * [Die Datenbeladung](#Datenbeladung)    \n",
    "    * [Die Datenvisualisierung](#datenvisual)\n",
    "* [Das Klassifikationsmodell](#klassifikationsmodell)\n",
    "    * [Die Modellskonfiguration](#modelskonfiguration)\n",
    "    * [Die Modellstruktur](#modellstruktur)\n",
    "    * [Modell-Training](#modelltraining)"
   ]
  },
  {
   "cell_type": "markdown",
   "metadata": {},
   "source": [
    "## Tensorboard<a class=\"anchor\" id=\"Tensorboard\"></a>"
   ]
  },
  {
   "cell_type": "markdown",
   "metadata": {},
   "source": [
    "#### Tensorboard ist eine Webanwendung zur Visualisierungverschidener Aspekte neuronaler Netze"
   ]
  },
  {
   "cell_type": "code",
   "execution_count": null,
   "metadata": {},
   "outputs": [],
   "source": [
    "from keras.backend import clear_session\n",
    "clear_session()\n",
    "%reload_ext tensorboard"
   ]
  },
  {
   "cell_type": "markdown",
   "metadata": {},
   "source": [
    "## Python-Bibliotheken<a class=\"anchor\" id=\"Bibliotheken\"></a>"
   ]
  },
  {
   "cell_type": "code",
   "execution_count": 4,
   "metadata": {},
   "outputs": [],
   "source": [
    "import torch\n",
    "import torch.nn as nn\n",
    "import torch.nn.functional as F\n",
    "import torch.optim as optim\n",
    "import matplotlib.pyplot as plt\n",
    "import IPython.display as display\n",
    "import numpy as np\n",
    "import random\n",
    "import librosa\n",
    "import librosa.display\n",
    "import tensorflow as tf\n",
    "import torchaudio\n",
    "import torchvision\n",
    "from torchvision import models, transforms\n",
    "from pathlib import Path\n",
    "from PIL import Image\n",
    "from torch.utils.data import Dataset, DataLoader\n",
    "from sklearn.metrics import classification_report,confusion_matrix\n",
    "import itertools"
   ]
  },
  {
   "cell_type": "markdown",
   "metadata": {},
   "source": [
    "## Die Vorverarbeitung<a class=\"anchor\" id=\"Vorverarbeitung\"></a>"
   ]
  },
  {
   "cell_type": "code",
   "execution_count": 5,
   "metadata": {},
   "outputs": [],
   "source": [
    "# \"surprise\" wird von 8 auf 0 geändert\n",
    "EMOTIONS = {1:'neutral', 2:'calm', 3:'happy', 4:'sad', 5:'angry', 6:'fear', 7:'disgust', 0:'surprise'} \n",
    "class_names = [EMOTIONS[ind] for ind in range(len(EMOTIONS))]"
   ]
  },
  {
   "cell_type": "code",
   "execution_count": 6,
   "metadata": {},
   "outputs": [],
   "source": [
    "# Die Trainigschleife\n",
    "def train(model, optimizer, loss_fn, train_loader, val_loader, epochs=5, device=\"cpu\"):\n",
    "    for epoch in range(1, epochs+1):\n",
    "        training_loss = 0.0\n",
    "        valid_loss = 0.0\n",
    "        model.train()\n",
    "        for batch in train_loader:\n",
    "            optimizer.zero_grad()\n",
    "            inputs, targets = batch\n",
    "            inputs = inputs.to(device)\n",
    "            targets = targets.to(device)\n",
    "            output = model(inputs)\n",
    "            loss = loss_fn(output, targets)\n",
    "            loss.backward()\n",
    "            optimizer.step()\n",
    "            training_loss += loss.data.item() * inputs.size(0)\n",
    "        training_loss /= len(train_loader.dataset)\n",
    "        \n",
    "        model.eval()\n",
    "        num_correct = 0 \n",
    "        num_examples = 0\n",
    "        for batch in val_loader:\n",
    "            inputs, targets = batch\n",
    "            inputs = inputs.to(device)\n",
    "            output = model(inputs)\n",
    "            targets = targets.to(device)\n",
    "            loss = loss_fn(output,targets) \n",
    "            valid_loss += loss.data.item() * inputs.size(0)\n",
    "            correct = torch.eq(torch.max(F.softmax(output, dim=1), dim = 1)[1], targets)#.view(2)\n",
    "            num_correct += torch.sum(correct).item()\n",
    "            num_examples += correct.shape[0]\n",
    "        valid_loss /= len(val_loader.dataset)\n",
    "\n",
    "        print('Epoch: {}, Training Loss: {:.2f}, Validation Loss: {:.2f}, accuracy = {:.2f}'.format(epoch, training_loss,\n",
    "        valid_loss, num_correct / num_examples))\n",
    "        \n",
    "#Die optimale Lernrate finden        \n",
    "def find_lr(model, loss_fn, optimizer, train_loader, init_value=1e-8, final_value=10.0, device=\"cpu\"):\n",
    "    number_in_epoch = len(train_loader) - 1\n",
    "    update_step = (final_value / init_value) ** (1 / number_in_epoch)\n",
    "    lr = init_value\n",
    "    optimizer.param_groups[0][\"lr\"] = lr\n",
    "    best_loss = 0.0\n",
    "    batch_num = 0\n",
    "    losses = []\n",
    "    log_lrs = []\n",
    "    for data in train_loader:\n",
    "        batch_num += 1\n",
    "        inputs, targets = data\n",
    "        inputs = inputs.to(device)\n",
    "        targets = targets.to(device)\n",
    "        optimizer.zero_grad()\n",
    "        outputs = model(inputs)\n",
    "        loss = loss_fn(outputs, targets)\n",
    "\n",
    "        # Crash out if loss explodes\n",
    "\n",
    "        if batch_num > 1 and loss > 4 * best_loss:\n",
    "            if(len(log_lrs) > 20):\n",
    "                return log_lrs[10:-5], losses[10:-5]\n",
    "            else:\n",
    "                return log_lrs, losses\n",
    "\n",
    "        # Record the best loss\n",
    "\n",
    "        if loss < best_loss or batch_num == 1:\n",
    "            best_loss = loss\n",
    "\n",
    "        # Store the values\n",
    "        losses.append(loss.item())\n",
    "        log_lrs.append((lr))\n",
    "\n",
    "        # Do the backward pass and optimize\n",
    "\n",
    "        loss.backward()\n",
    "        optimizer.step()\n",
    "\n",
    "        # Update the lr for the next step and store\n",
    "\n",
    "        lr *= update_step\n",
    "        optimizer.param_groups[0][\"lr\"] = lr\n",
    "    if(len(log_lrs) > 20):\n",
    "        return log_lrs[10:-5], losses[10:-5]\n",
    "    else:\n",
    "        return log_lrs, losses        "
   ]
  },
  {
   "cell_type": "code",
   "execution_count": 7,
   "metadata": {},
   "outputs": [],
   "source": [
    "# Audiodateien\n",
    "PATH_TO_RAVDESS = Path.cwd() / \"ravdess\" / \"frequenzbereich\"\n",
    "PATH_RAVDESS_TRAIN = PATH_TO_RAVDESS / \"train\"\n",
    "PATH_RAVDESS_TEST = PATH_TO_RAVDESS / \"test\"\n",
    "PATH_RAVDESS_VALID = PATH_TO_RAVDESS / \"valid\""
   ]
  },
  {
   "cell_type": "markdown",
   "metadata": {},
   "source": [
    "### Die Datenbeladung<a class=\"anchor\" id=\"Datenbeladung\"></a>"
   ]
  },
  {
   "cell_type": "code",
   "execution_count": 8,
   "metadata": {},
   "outputs": [],
   "source": [
    "# Das Einlesen der Bilder\n",
    "class PrecomputedRavdess(Dataset):\n",
    "    def __init__(self,path,dpi=50, img_transforms=None):\n",
    "        files = Path(path).glob('{}{}*.wav.png'.format(path.name, dpi))\n",
    "        self.items = [(f,int(f.name.split(\"-\")[2].replace(\".wav.png\",\"\"))) for f in files]\n",
    "        self.length = len(self.items)\n",
    "        if img_transforms == None:\n",
    "            self.img_transforms = transforms.Compose([transforms.ToTensor()])\n",
    "        else:\n",
    "            self.img_transforms = img_transforms\n",
    "    \n",
    "    def __getitem__(self, index):\n",
    "        filename, label = self.items[index]\n",
    "        img = Image.open(filename).convert('RGB')\n",
    "        return (self.img_transforms(img), label)\n",
    "            \n",
    "    def __len__(self):\n",
    "        return self.length"
   ]
  },
  {
   "cell_type": "code",
   "execution_count": 9,
   "metadata": {},
   "outputs": [],
   "source": [
    "def LoadRavdess(bs):\n",
    "\n",
    "    ravdess_train = PrecomputedRavdess(PATH_RAVDESS_TRAIN,\n",
    "                                  img_transforms=transforms.Compose([\n",
    "                                      transforms.Resize((224,224)),\n",
    "                                      transforms.ToTensor(),\n",
    "                                      transforms.Normalize(mean=[0.485, 0.456, 0.406],\n",
    "                                                           std=[0.229, 0.224, 0.225])])\n",
    "    )\n",
    "\n",
    "    ravdess_test = PrecomputedRavdess(PATH_RAVDESS_TEST,\n",
    "                                  img_transforms=transforms.Compose([\n",
    "                                      transforms.Resize((224,224)),\n",
    "                                      transforms.ToTensor(),\n",
    "                                      transforms.Normalize(mean=[0.485, 0.456, 0.406],\n",
    "                                                           std=[0.229, 0.224, 0.225])])\n",
    "    )\n",
    "    \n",
    "    ravdess_valid = PrecomputedRavdess(PATH_RAVDESS_VALID,\n",
    "                                  img_transforms=transforms.Compose([\n",
    "                                      transforms.Resize((224,224)),\n",
    "                                      transforms.ToTensor(),\n",
    "                                      transforms.Normalize(mean=[0.485, 0.456, 0.406],\n",
    "                                                           std=[0.229, 0.224, 0.225])])\n",
    "    )\n",
    "\n",
    "    ravdess_train_loader = torch.utils.data.DataLoader(ravdess_train, bs, shuffle=True)\n",
    "    ravdess_test_loader = torch.utils.data.DataLoader(ravdess_test, bs, shuffle=True)\n",
    "    ravdess_valid_loader = torch.utils.data.DataLoader(ravdess_valid, bs, shuffle=True)\n",
    "            \n",
    "    return ravdess_train_loader, ravdess_test_loader, ravdess_valid_loader "
   ]
  },
  {
   "cell_type": "markdown",
   "metadata": {},
   "source": [
    "### Die Datenvisualisierung<a class=\"anchor\" id=\"#datenvisual\"></a>"
   ]
  },
  {
   "cell_type": "code",
   "execution_count": 11,
   "metadata": {},
   "outputs": [],
   "source": [
    "ravdess_train_loader, ravdess_test_loader, ravdess_valid_loader = LoadRavdess(64)"
   ]
  },
  {
   "cell_type": "code",
   "execution_count": 12,
   "metadata": {},
   "outputs": [
    {
     "name": "stdout",
     "output_type": "stream",
     "text": [
      "Train Labels: tensor([1, 7, 6, 4, 5, 4, 6, 2, 2, 5, 0, 7, 1, 6, 7, 0, 5, 7, 1, 3, 5, 2, 0, 2,\n",
      "        7, 1, 2, 2, 5, 2, 7, 0, 3, 0, 3, 0, 2, 5, 6, 5, 0, 5, 3, 2, 0, 2, 0, 6,\n",
      "        0, 2, 5, 2, 6, 5, 0, 2, 2, 0, 5, 5, 6, 3, 6, 5])\n"
     ]
    },
    {
     "data": {
      "image/png": "[encoded data removed]",
      "text/plain": [
       "<Figure size 432x288 with 1 Axes>"
      ]
     },
     "metadata": {
      "needs_background": "light"
     },
     "output_type": "display_data"
    }
   ],
   "source": [
    "def imshow(img):\n",
    "     img = img / 2 + 0.5\n",
    "     npimg = img.numpy()\n",
    "     plt.imshow(np.transpose(npimg, (1, 2, 0)))\n",
    "     plt.show()\n",
    "images_train, labels_train = next(iter(ravdess_train_loader))  \n",
    "images_test, labels_test = next(iter(ravdess_test_loader))\n",
    "images_valid, labels_valid = next(iter(ravdess_valid_loader))\n",
    "print(\"Train Labels:\",labels_train)\n",
    "\n",
    "imshow(torchvision.utils.make_grid(images_valid)/ 4)"
   ]
  },
  {
   "cell_type": "markdown",
   "metadata": {},
   "source": [
    "## Das Klassifikationsmodell<a class=\"anchor\" id=\"#klassifikationsmodell\"></a>"
   ]
  },
  {
   "cell_type": "markdown",
   "metadata": {},
   "source": [
    "### Die Modellskonfiguration<a class=\"anchor\" id=\"#modelskonfiguration\"></a>"
   ]
  },
  {
   "cell_type": "code",
   "execution_count": 13,
   "metadata": {},
   "outputs": [],
   "source": [
    "def model_res():\n",
    "    device = \"cpu\"\n",
    "    spec_resnet = models.resnet50(pretrained=True)\n",
    "\n",
    "    for param in spec_resnet.parameters():\n",
    "        param.requires_grad = False\n",
    "\n",
    "        spec_resnet.fc = nn.Sequential(nn.Linear(spec_resnet.fc.in_features,500),\n",
    "                               nn.ReLU(),\n",
    "                               nn.Dropout(), nn.Linear(500,8))\n",
    "        return spec_resnet"
   ]
  },
  {
   "cell_type": "markdown",
   "metadata": {},
   "source": [
    "### Die Modellstruktur<a class=\"anchor\" id=\"#modellstruktur\"></a>"
   ]
  },
  {
   "cell_type": "code",
   "execution_count": 14,
   "metadata": {},
   "outputs": [
    {
     "data": {
      "text/plain": [
       "ResNet(\n",
       "  (conv1): Conv2d(3, 64, kernel_size=(7, 7), stride=(2, 2), padding=(3, 3), bias=False)\n",
       "  (bn1): BatchNorm2d(64, eps=1e-05, momentum=0.1, affine=True, track_running_stats=True)\n",
       "  (relu): ReLU(inplace=True)\n",
       "  (maxpool): MaxPool2d(kernel_size=3, stride=2, padding=1, dilation=1, ceil_mode=False)\n",
       "  (layer1): Sequential(\n",
       "    (0): Bottleneck(\n",
       "      (conv1): Conv2d(64, 64, kernel_size=(1, 1), stride=(1, 1), bias=False)\n",
       "      (bn1): BatchNorm2d(64, eps=1e-05, momentum=0.1, affine=True, track_running_stats=True)\n",
       "      (conv2): Conv2d(64, 64, kernel_size=(3, 3), stride=(1, 1), padding=(1, 1), bias=False)\n",
       "      (bn2): BatchNorm2d(64, eps=1e-05, momentum=0.1, affine=True, track_running_stats=True)\n",
       "      (conv3): Conv2d(64, 256, kernel_size=(1, 1), stride=(1, 1), bias=False)\n",
       "      (bn3): BatchNorm2d(256, eps=1e-05, momentum=0.1, affine=True, track_running_stats=True)\n",
       "      (relu): ReLU(inplace=True)\n",
       "      (downsample): Sequential(\n",
       "        (0): Conv2d(64, 256, kernel_size=(1, 1), stride=(1, 1), bias=False)\n",
       "        (1): BatchNorm2d(256, eps=1e-05, momentum=0.1, affine=True, track_running_stats=True)\n",
       "      )\n",
       "    )\n",
       "    (1): Bottleneck(\n",
       "      (conv1): Conv2d(256, 64, kernel_size=(1, 1), stride=(1, 1), bias=False)\n",
       "      (bn1): BatchNorm2d(64, eps=1e-05, momentum=0.1, affine=True, track_running_stats=True)\n",
       "      (conv2): Conv2d(64, 64, kernel_size=(3, 3), stride=(1, 1), padding=(1, 1), bias=False)\n",
       "      (bn2): BatchNorm2d(64, eps=1e-05, momentum=0.1, affine=True, track_running_stats=True)\n",
       "      (conv3): Conv2d(64, 256, kernel_size=(1, 1), stride=(1, 1), bias=False)\n",
       "      (bn3): BatchNorm2d(256, eps=1e-05, momentum=0.1, affine=True, track_running_stats=True)\n",
       "      (relu): ReLU(inplace=True)\n",
       "    )\n",
       "    (2): Bottleneck(\n",
       "      (conv1): Conv2d(256, 64, kernel_size=(1, 1), stride=(1, 1), bias=False)\n",
       "      (bn1): BatchNorm2d(64, eps=1e-05, momentum=0.1, affine=True, track_running_stats=True)\n",
       "      (conv2): Conv2d(64, 64, kernel_size=(3, 3), stride=(1, 1), padding=(1, 1), bias=False)\n",
       "      (bn2): BatchNorm2d(64, eps=1e-05, momentum=0.1, affine=True, track_running_stats=True)\n",
       "      (conv3): Conv2d(64, 256, kernel_size=(1, 1), stride=(1, 1), bias=False)\n",
       "      (bn3): BatchNorm2d(256, eps=1e-05, momentum=0.1, affine=True, track_running_stats=True)\n",
       "      (relu): ReLU(inplace=True)\n",
       "    )\n",
       "  )\n",
       "  (layer2): Sequential(\n",
       "    (0): Bottleneck(\n",
       "      (conv1): Conv2d(256, 128, kernel_size=(1, 1), stride=(1, 1), bias=False)\n",
       "      (bn1): BatchNorm2d(128, eps=1e-05, momentum=0.1, affine=True, track_running_stats=True)\n",
       "      (conv2): Conv2d(128, 128, kernel_size=(3, 3), stride=(2, 2), padding=(1, 1), bias=False)\n",
       "      (bn2): BatchNorm2d(128, eps=1e-05, momentum=0.1, affine=True, track_running_stats=True)\n",
       "      (conv3): Conv2d(128, 512, kernel_size=(1, 1), stride=(1, 1), bias=False)\n",
       "      (bn3): BatchNorm2d(512, eps=1e-05, momentum=0.1, affine=True, track_running_stats=True)\n",
       "      (relu): ReLU(inplace=True)\n",
       "      (downsample): Sequential(\n",
       "        (0): Conv2d(256, 512, kernel_size=(1, 1), stride=(2, 2), bias=False)\n",
       "        (1): BatchNorm2d(512, eps=1e-05, momentum=0.1, affine=True, track_running_stats=True)\n",
       "      )\n",
       "    )\n",
       "    (1): Bottleneck(\n",
       "      (conv1): Conv2d(512, 128, kernel_size=(1, 1), stride=(1, 1), bias=False)\n",
       "      (bn1): BatchNorm2d(128, eps=1e-05, momentum=0.1, affine=True, track_running_stats=True)\n",
       "      (conv2): Conv2d(128, 128, kernel_size=(3, 3), stride=(1, 1), padding=(1, 1), bias=False)\n",
       "      (bn2): BatchNorm2d(128, eps=1e-05, momentum=0.1, affine=True, track_running_stats=True)\n",
       "      (conv3): Conv2d(128, 512, kernel_size=(1, 1), stride=(1, 1), bias=False)\n",
       "      (bn3): BatchNorm2d(512, eps=1e-05, momentum=0.1, affine=True, track_running_stats=True)\n",
       "      (relu): ReLU(inplace=True)\n",
       "    )\n",
       "    (2): Bottleneck(\n",
       "      (conv1): Conv2d(512, 128, kernel_size=(1, 1), stride=(1, 1), bias=False)\n",
       "      (bn1): BatchNorm2d(128, eps=1e-05, momentum=0.1, affine=True, track_running_stats=True)\n",
       "      (conv2): Conv2d(128, 128, kernel_size=(3, 3), stride=(1, 1), padding=(1, 1), bias=False)\n",
       "      (bn2): BatchNorm2d(128, eps=1e-05, momentum=0.1, affine=True, track_running_stats=True)\n",
       "      (conv3): Conv2d(128, 512, kernel_size=(1, 1), stride=(1, 1), bias=False)\n",
       "      (bn3): BatchNorm2d(512, eps=1e-05, momentum=0.1, affine=True, track_running_stats=True)\n",
       "      (relu): ReLU(inplace=True)\n",
       "    )\n",
       "    (3): Bottleneck(\n",
       "      (conv1): Conv2d(512, 128, kernel_size=(1, 1), stride=(1, 1), bias=False)\n",
       "      (bn1): BatchNorm2d(128, eps=1e-05, momentum=0.1, affine=True, track_running_stats=True)\n",
       "      (conv2): Conv2d(128, 128, kernel_size=(3, 3), stride=(1, 1), padding=(1, 1), bias=False)\n",
       "      (bn2): BatchNorm2d(128, eps=1e-05, momentum=0.1, affine=True, track_running_stats=True)\n",
       "      (conv3): Conv2d(128, 512, kernel_size=(1, 1), stride=(1, 1), bias=False)\n",
       "      (bn3): BatchNorm2d(512, eps=1e-05, momentum=0.1, affine=True, track_running_stats=True)\n",
       "      (relu): ReLU(inplace=True)\n",
       "    )\n",
       "  )\n",
       "  (layer3): Sequential(\n",
       "    (0): Bottleneck(\n",
       "      (conv1): Conv2d(512, 256, kernel_size=(1, 1), stride=(1, 1), bias=False)\n",
       "      (bn1): BatchNorm2d(256, eps=1e-05, momentum=0.1, affine=True, track_running_stats=True)\n",
       "      (conv2): Conv2d(256, 256, kernel_size=(3, 3), stride=(2, 2), padding=(1, 1), bias=False)\n",
       "      (bn2): BatchNorm2d(256, eps=1e-05, momentum=0.1, affine=True, track_running_stats=True)\n",
       "      (conv3): Conv2d(256, 1024, kernel_size=(1, 1), stride=(1, 1), bias=False)\n",
       "      (bn3): BatchNorm2d(1024, eps=1e-05, momentum=0.1, affine=True, track_running_stats=True)\n",
       "      (relu): ReLU(inplace=True)\n",
       "      (downsample): Sequential(\n",
       "        (0): Conv2d(512, 1024, kernel_size=(1, 1), stride=(2, 2), bias=False)\n",
       "        (1): BatchNorm2d(1024, eps=1e-05, momentum=0.1, affine=True, track_running_stats=True)\n",
       "      )\n",
       "    )\n",
       "    (1): Bottleneck(\n",
       "      (conv1): Conv2d(1024, 256, kernel_size=(1, 1), stride=(1, 1), bias=False)\n",
       "      (bn1): BatchNorm2d(256, eps=1e-05, momentum=0.1, affine=True, track_running_stats=True)\n",
       "      (conv2): Conv2d(256, 256, kernel_size=(3, 3), stride=(1, 1), padding=(1, 1), bias=False)\n",
       "      (bn2): BatchNorm2d(256, eps=1e-05, momentum=0.1, affine=True, track_running_stats=True)\n",
       "      (conv3): Conv2d(256, 1024, kernel_size=(1, 1), stride=(1, 1), bias=False)\n",
       "      (bn3): BatchNorm2d(1024, eps=1e-05, momentum=0.1, affine=True, track_running_stats=True)\n",
       "      (relu): ReLU(inplace=True)\n",
       "    )\n",
       "    (2): Bottleneck(\n",
       "      (conv1): Conv2d(1024, 256, kernel_size=(1, 1), stride=(1, 1), bias=False)\n",
       "      (bn1): BatchNorm2d(256, eps=1e-05, momentum=0.1, affine=True, track_running_stats=True)\n",
       "      (conv2): Conv2d(256, 256, kernel_size=(3, 3), stride=(1, 1), padding=(1, 1), bias=False)\n",
       "      (bn2): BatchNorm2d(256, eps=1e-05, momentum=0.1, affine=True, track_running_stats=True)\n",
       "      (conv3): Conv2d(256, 1024, kernel_size=(1, 1), stride=(1, 1), bias=False)\n",
       "      (bn3): BatchNorm2d(1024, eps=1e-05, momentum=0.1, affine=True, track_running_stats=True)\n",
       "      (relu): ReLU(inplace=True)\n",
       "    )\n",
       "    (3): Bottleneck(\n",
       "      (conv1): Conv2d(1024, 256, kernel_size=(1, 1), stride=(1, 1), bias=False)\n",
       "      (bn1): BatchNorm2d(256, eps=1e-05, momentum=0.1, affine=True, track_running_stats=True)\n",
       "      (conv2): Conv2d(256, 256, kernel_size=(3, 3), stride=(1, 1), padding=(1, 1), bias=False)\n",
       "      (bn2): BatchNorm2d(256, eps=1e-05, momentum=0.1, affine=True, track_running_stats=True)\n",
       "      (conv3): Conv2d(256, 1024, kernel_size=(1, 1), stride=(1, 1), bias=False)\n",
       "      (bn3): BatchNorm2d(1024, eps=1e-05, momentum=0.1, affine=True, track_running_stats=True)\n",
       "      (relu): ReLU(inplace=True)\n",
       "    )\n",
       "    (4): Bottleneck(\n",
       "      (conv1): Conv2d(1024, 256, kernel_size=(1, 1), stride=(1, 1), bias=False)\n",
       "      (bn1): BatchNorm2d(256, eps=1e-05, momentum=0.1, affine=True, track_running_stats=True)\n",
       "      (conv2): Conv2d(256, 256, kernel_size=(3, 3), stride=(1, 1), padding=(1, 1), bias=False)\n",
       "      (bn2): BatchNorm2d(256, eps=1e-05, momentum=0.1, affine=True, track_running_stats=True)\n",
       "      (conv3): Conv2d(256, 1024, kernel_size=(1, 1), stride=(1, 1), bias=False)\n",
       "      (bn3): BatchNorm2d(1024, eps=1e-05, momentum=0.1, affine=True, track_running_stats=True)\n",
       "      (relu): ReLU(inplace=True)\n",
       "    )\n",
       "    (5): Bottleneck(\n",
       "      (conv1): Conv2d(1024, 256, kernel_size=(1, 1), stride=(1, 1), bias=False)\n",
       "      (bn1): BatchNorm2d(256, eps=1e-05, momentum=0.1, affine=True, track_running_stats=True)\n",
       "      (conv2): Conv2d(256, 256, kernel_size=(3, 3), stride=(1, 1), padding=(1, 1), bias=False)\n",
       "      (bn2): BatchNorm2d(256, eps=1e-05, momentum=0.1, affine=True, track_running_stats=True)\n",
       "      (conv3): Conv2d(256, 1024, kernel_size=(1, 1), stride=(1, 1), bias=False)\n",
       "      (bn3): BatchNorm2d(1024, eps=1e-05, momentum=0.1, affine=True, track_running_stats=True)\n",
       "      (relu): ReLU(inplace=True)\n",
       "    )\n",
       "  )\n",
       "  (layer4): Sequential(\n",
       "    (0): Bottleneck(\n",
       "      (conv1): Conv2d(1024, 512, kernel_size=(1, 1), stride=(1, 1), bias=False)\n",
       "      (bn1): BatchNorm2d(512, eps=1e-05, momentum=0.1, affine=True, track_running_stats=True)\n",
       "      (conv2): Conv2d(512, 512, kernel_size=(3, 3), stride=(2, 2), padding=(1, 1), bias=False)\n",
       "      (bn2): BatchNorm2d(512, eps=1e-05, momentum=0.1, affine=True, track_running_stats=True)\n",
       "      (conv3): Conv2d(512, 2048, kernel_size=(1, 1), stride=(1, 1), bias=False)\n",
       "      (bn3): BatchNorm2d(2048, eps=1e-05, momentum=0.1, affine=True, track_running_stats=True)\n",
       "      (relu): ReLU(inplace=True)\n",
       "      (downsample): Sequential(\n",
       "        (0): Conv2d(1024, 2048, kernel_size=(1, 1), stride=(2, 2), bias=False)\n",
       "        (1): BatchNorm2d(2048, eps=1e-05, momentum=0.1, affine=True, track_running_stats=True)\n",
       "      )\n",
       "    )\n",
       "    (1): Bottleneck(\n",
       "      (conv1): Conv2d(2048, 512, kernel_size=(1, 1), stride=(1, 1), bias=False)\n",
       "      (bn1): BatchNorm2d(512, eps=1e-05, momentum=0.1, affine=True, track_running_stats=True)\n",
       "      (conv2): Conv2d(512, 512, kernel_size=(3, 3), stride=(1, 1), padding=(1, 1), bias=False)\n",
       "      (bn2): BatchNorm2d(512, eps=1e-05, momentum=0.1, affine=True, track_running_stats=True)\n",
       "      (conv3): Conv2d(512, 2048, kernel_size=(1, 1), stride=(1, 1), bias=False)\n",
       "      (bn3): BatchNorm2d(2048, eps=1e-05, momentum=0.1, affine=True, track_running_stats=True)\n",
       "      (relu): ReLU(inplace=True)\n",
       "    )\n",
       "    (2): Bottleneck(\n",
       "      (conv1): Conv2d(2048, 512, kernel_size=(1, 1), stride=(1, 1), bias=False)\n",
       "      (bn1): BatchNorm2d(512, eps=1e-05, momentum=0.1, affine=True, track_running_stats=True)\n",
       "      (conv2): Conv2d(512, 512, kernel_size=(3, 3), stride=(1, 1), padding=(1, 1), bias=False)\n",
       "      (bn2): BatchNorm2d(512, eps=1e-05, momentum=0.1, affine=True, track_running_stats=True)\n",
       "      (conv3): Conv2d(512, 2048, kernel_size=(1, 1), stride=(1, 1), bias=False)\n",
       "      (bn3): BatchNorm2d(2048, eps=1e-05, momentum=0.1, affine=True, track_running_stats=True)\n",
       "      (relu): ReLU(inplace=True)\n",
       "    )\n",
       "  )\n",
       "  (avgpool): AdaptiveAvgPool2d(output_size=(1, 1))\n",
       "  (fc): Sequential(\n",
       "    (0): Linear(in_features=2048, out_features=500, bias=True)\n",
       "    (1): ReLU()\n",
       "    (2): Dropout(p=0.5, inplace=False)\n",
       "    (3): Linear(in_features=500, out_features=8, bias=True)\n",
       "  )\n",
       ")"
      ]
     },
     "execution_count": 14,
     "metadata": {},
     "output_type": "execute_result"
    }
   ],
   "source": [
    "device = \"cpu\"\n",
    "spec_resnet = model_res()\n",
    "spec_resnet.to(device)"
   ]
  },
  {
   "cell_type": "code",
   "execution_count": 18,
   "metadata": {},
   "outputs": [
    {
     "data": {
      "text/plain": [
       "Text(0.5, 0, 'Lernrate')"
      ]
     },
     "execution_count": 18,
     "metadata": {},
     "output_type": "execute_result"
    },
    {
     "data": {
      "image/png": "[encoded data removed]",
      "text/plain": [
       "<Figure size 432x288 with 1 Axes>"
      ]
     },
     "metadata": {
      "needs_background": "light"
     },
     "output_type": "display_data"
    }
   ],
   "source": [
    "#Die Lernrate \n",
    "spec_resnet.to(device) \n",
    "torch.save(spec_resnet.state_dict(), \"spec_resnet_temp.pth\")\n",
    "loss_fn = nn.CrossEntropyLoss()\n",
    "optimizer = optim.Adam(spec_resnet.parameters(), lr=0.001)\n",
    "logs,losses = find_lr(spec_resnet, loss_fn, optimizer, ravdess_train_loader, device=device)\n",
    "plt.plot(logs, losses)\n",
    "plt.ylabel('Verlust')\n",
    "plt.xlabel('Lernrate')"
   ]
  },
  {
   "cell_type": "markdown",
   "metadata": {},
   "source": [
    "### Modell-Training<a class=\"anchor\" id=\"#modelltraining\"></a>"
   ]
  },
  {
   "cell_type": "code",
   "execution_count": null,
   "metadata": {},
   "outputs": [
    {
     "name": "stdout",
     "output_type": "stream",
     "text": [
      "Epoch: 1, Training Loss: 1.76, Validation Loss: 13.47, accuracy = 0.24\n",
      "Epoch: 2, Training Loss: 1.41, Validation Loss: 6.99, accuracy = 0.37\n",
      "Epoch: 3, Training Loss: 1.10, Validation Loss: 5.28, accuracy = 0.23\n",
      "Epoch: 4, Training Loss: 0.95, Validation Loss: 2.79, accuracy = 0.44\n",
      "Epoch: 5, Training Loss: 0.91, Validation Loss: 1.35, accuracy = 0.56\n",
      "Epoch: 1, Training Loss: 0.63, Validation Loss: 1.11, accuracy = 0.58\n",
      "Epoch: 2, Training Loss: 0.44, Validation Loss: 0.98, accuracy = 0.67\n",
      "Epoch: 3, Training Loss: 0.35, Validation Loss: 1.53, accuracy = 0.52\n",
      "Epoch: 4, Training Loss: 0.23, Validation Loss: 0.92, accuracy = 0.71\n"
     ]
    }
   ],
   "source": [
    "spec_resnet.load_state_dict(torch.load(\"spec_resnet_temp.pth\"))\n",
    "\n",
    "optimizer = optim.Adam(spec_resnet.parameters(), lr=1e-3)\n",
    "train(spec_resnet, optimizer, nn.CrossEntropyLoss(), ravdess_train_loader, ravdess_valid_loader, epochs = 5, device=device)\n",
    "\n",
    "for param in spec_resnet.parameters():\n",
    "    param.requires_grad = True\n",
    "optimizer = optim.Adam([\n",
    "                        {'params': spec_resnet.conv1.parameters()},\n",
    "                        {'params': spec_resnet.bn1.parameters()},\n",
    "                        {'params': spec_resnet.relu.parameters()},\n",
    "                        {'params': spec_resnet.maxpool.parameters()},\n",
    "                        {'params': spec_resnet.layer1.parameters(), 'lr': 1e-4},\n",
    "                        {'params': spec_resnet.layer2.parameters(), 'lr': 1e-4},\n",
    "                        {'params': spec_resnet.layer3.parameters(), 'lr': 1e-4},\n",
    "                        {'params': spec_resnet.layer4.parameters(), 'lr': 1e-4},\n",
    "                        {'params': spec_resnet.avgpool.parameters(), 'lr': 1e-4},\n",
    "                        {'params': spec_resnet.fc.parameters(), 'lr': 1e-4}\n",
    "                        ], lr=1e-3)\n",
    "train(spec_resnet, optimizer, nn.CrossEntropyLoss(), ravdess_train_loader, ravdess_valid_loader,  device=device)\n",
    "torch.save(spec_resnet.state_dict(),\"pth_model_train.pth\")"
   ]
  },
  {
   "cell_type": "markdown",
   "metadata": {},
   "source": [
    "#### Die Genauigkeit des Modells<a class=\"anchor\" id=\"Genauigkeit\"></a>"
   ]
  },
  {
   "cell_type": "code",
   "execution_count": 17,
   "metadata": {},
   "outputs": [],
   "source": [
    "def prep(loader,model):\n",
    "    correct = 0\n",
    "    total = 0\n",
    "    with torch.no_grad():\n",
    "    \n",
    "    # Iterate over the test set\n",
    "        for data in loader:\n",
    "            images, labels = data\n",
    "\n",
    "            images = images.to(device)\n",
    "            labels = labels.to(device)\n",
    "        \n",
    "            outputs = model(images)\n",
    "        \n",
    "        # torch.max is an argmax operation\n",
    "            _, predicted = torch.max(outputs.data, 1)\n",
    "        \n",
    "            total += labels.size(0)\n",
    "            correct += (predicted == labels).sum().item()\n",
    "\n",
    "\n",
    "    print('Die Genauigkeit: %d %%' % (100 * correct / total))"
   ]
  },
  {
   "cell_type": "code",
   "execution_count": 18,
   "metadata": {},
   "outputs": [
    {
     "name": "stdout",
     "output_type": "stream",
     "text": [
      "Die Genauigkeit: 96 %\n"
     ]
    }
   ],
   "source": [
    "# Trainigesdaten\n",
    "prep(ravdess_train_loader,spec_resnet)"
   ]
  },
  {
   "cell_type": "code",
   "execution_count": 19,
   "metadata": {},
   "outputs": [
    {
     "name": "stdout",
     "output_type": "stream",
     "text": [
      "Die Genauigkeit: 69 %\n"
     ]
    }
   ],
   "source": [
    "# Testsdaten\n",
    "prep(ravdess_valid_loader,spec_resnet)"
   ]
  },
  {
   "cell_type": "markdown",
   "metadata": {},
   "source": [
    "#### Metrics"
   ]
  },
  {
   "cell_type": "code",
   "execution_count": 20,
   "metadata": {},
   "outputs": [],
   "source": [
    "def plot_confusion_matrix(cm, classes,\n",
    "                          normalize=False,\n",
    "                          title='Confusion matrix',\n",
    "                          cmap=plt.cm.Blues):\n",
    "    \"\"\"\n",
    "    This function prints and plots the confusion matrix.\n",
    "    Normalization can be applied by setting `normalize=True`.\n",
    "    \"\"\"\n",
    "    plt.imshow(cm, interpolation='nearest', cmap=cmap)\n",
    "    plt.title(title)\n",
    "    plt.colorbar()\n",
    "    tick_marks = np.arange(len(classes))\n",
    "    plt.xticks(tick_marks, classes, rotation=45)\n",
    "    plt.yticks(tick_marks, classes)\n",
    "\n",
    "    if normalize:\n",
    "  #      cm = cm.astype('float') / cm.sum(axis=1)[:, np.newaxis]\n",
    "        print(\"Normalized confusion matrix\")\n",
    "    else:\n",
    "        print('Confusion matrix, without normalization')\n",
    "\n",
    " #   print(cm)\n",
    "    thresh = cm.max() / 2.\n",
    "    for i, j in itertools.product(range(cm.shape[0]), range(cm.shape[1])):\n",
    "        plt.text(j, i, cm[i, j],\n",
    "                 horizontalalignment=\"center\",\n",
    "                 color=\"white\" if cm[i, j] > thresh else \"black\")\n",
    "\n",
    "\n",
    "    plt.tight_layout()\n",
    "    plt.ylabel('True label')\n",
    "    plt.xlabel('Predicted label')"
   ]
  },
  {
   "cell_type": "code",
   "execution_count": 21,
   "metadata": {},
   "outputs": [
    {
     "data": {
      "text/plain": [
       "<All keys matched successfully>"
      ]
     },
     "execution_count": 21,
     "metadata": {},
     "output_type": "execute_result"
    }
   ],
   "source": [
    "spec_resnet_prod = model_res()\n",
    "spec_resnet_prod.load_state_dict(torch.load(\"pth_model_train.pth\"))"
   ]
  },
  {
   "cell_type": "code",
   "execution_count": 22,
   "metadata": {},
   "outputs": [],
   "source": [
    "ravdess_train, ravdess_test, _ = LoadRavdess(1000)"
   ]
  },
  {
   "cell_type": "code",
   "execution_count": 23,
   "metadata": {},
   "outputs": [
    {
     "data": {
      "text/plain": [
       "(torch.Size([918]), torch.Size([918]), torch.Size([279]), torch.Size([279]))"
      ]
     },
     "execution_count": 23,
     "metadata": {},
     "output_type": "execute_result"
    }
   ],
   "source": [
    "img_train, label_train = next(iter(ravdess_train))\n",
    "img_test, label_test = next(iter(ravdess_test))\n",
    "label_train.shape,label_train.shape,label_test.shape,label_test.shape"
   ]
  },
  {
   "cell_type": "markdown",
   "metadata": {},
   "source": [
    "### Aufteilung auf die Blocken"
   ]
  },
  {
   "cell_type": "markdown",
   "metadata": {},
   "source": [
    "### Trainingsdaten"
   ]
  },
  {
   "cell_type": "code",
   "execution_count": 24,
   "metadata": {},
   "outputs": [],
   "source": [
    "def transform(loader,model):\n",
    "    device = \"cpu\"\n",
    "    with torch.no_grad():\n",
    "        \n",
    "        for data in loader:\n",
    "            images, labels = data\n",
    "\n",
    "            images = images.to(device)\n",
    "            labels = labels.to(device)\n",
    "        \n",
    "            outputs = model(images)\n",
    "        \n",
    "            # torch.max is an argmax operation\n",
    "            _, predicted = torch.max(outputs.data, 1)\n",
    "            \n",
    "         \n",
    "            return labels,predicted\n"
   ]
  },
  {
   "cell_type": "code",
   "execution_count": 25,
   "metadata": {},
   "outputs": [
    {
     "data": {
      "text/plain": [
       "(torch.Size([918]), torch.Size([918]))"
      ]
     },
     "execution_count": 25,
     "metadata": {},
     "output_type": "execute_result"
    }
   ],
   "source": [
    "load_train1  = torch.utils.data.Subset(ravdess_train.dataset, range(0, 51-1))\n",
    "load_train2 = torch.utils.data.Subset(ravdess_train.dataset, range(50, 101-1))\n",
    "load_train3 = torch.utils.data.Subset(ravdess_train.dataset, range(100, 151-1))\n",
    "load_train4 = torch.utils.data.Subset(ravdess_train.dataset, range(150, 201-1))\n",
    "load_train5  = torch.utils.data.Subset(ravdess_train.dataset, range(200, 251-1))\n",
    "load_train6 = torch.utils.data.Subset(ravdess_train.dataset, range(250, 301-1))\n",
    "load_train7 = torch.utils.data.Subset(ravdess_train.dataset, range(300, 351-1))\n",
    "load_train8  = torch.utils.data.Subset(ravdess_train.dataset, range(350, 401-1))\n",
    "load_train9 = torch.utils.data.Subset(ravdess_train.dataset, range(400, 451-1))\n",
    "load_train10 = torch.utils.data.Subset(ravdess_train.dataset, range(450, 501-1))\n",
    "load_train11  = torch.utils.data.Subset(ravdess_train.dataset, range(500, 551-1))\n",
    "load_train12 = torch.utils.data.Subset(ravdess_train.dataset, range(550, 601-1))\n",
    "load_train13 = torch.utils.data.Subset(ravdess_train.dataset, range(600, 651-1))\n",
    "load_train14 = torch.utils.data.Subset(ravdess_train.dataset, range(650, 701-1))\n",
    "load_train15  = torch.utils.data.Subset(ravdess_train.dataset, range(700, 751-1))\n",
    "load_train16 = torch.utils.data.Subset(ravdess_train.dataset, range(750, 801-1))\n",
    "load_train17 = torch.utils.data.Subset(ravdess_train.dataset, range(800, 851-1))\n",
    "load_train18 = torch.utils.data.Subset(ravdess_train.dataset, range(850, 918))\n",
    "Dataload_train1 = DataLoader(load_train1, 50)\n",
    "Dataload_train2 = DataLoader(load_train2, 50 )\n",
    "Dataload_train3 = DataLoader(load_train3, 50 )\n",
    "Dataload_train4 = DataLoader(load_train4, 50)\n",
    "Dataload_train5 = DataLoader(load_train5, 50 )\n",
    "Dataload_train6 = DataLoader(load_train6, 50 )\n",
    "Dataload_train7 = DataLoader(load_train7, 50)\n",
    "Dataload_train8 = DataLoader(load_train8, 50 )\n",
    "Dataload_train9 = DataLoader(load_train9, 50 )\n",
    "Dataload_train10 = DataLoader(load_train10, 50)\n",
    "Dataload_train11 = DataLoader(load_train11, 50 )\n",
    "Dataload_train12 = DataLoader(load_train12, 50 )\n",
    "Dataload_train13 = DataLoader(load_train13, 50)\n",
    "Dataload_train14 = DataLoader(load_train14, 50 )\n",
    "Dataload_train15 = DataLoader(load_train15, 50 )\n",
    "Dataload_train16 = DataLoader(load_train16, 50 )\n",
    "Dataload_train17 = DataLoader(load_train17, 50 )\n",
    "Dataload_train18 = DataLoader(load_train18, 68)\n",
    "labels_train1, predicted_train1 = transform(Dataload_train1,spec_resnet_prod)\n",
    "labels_train2, predicted_train2 = transform(Dataload_train2,spec_resnet_prod)\n",
    "labels_train3, predicted_train3 = transform(Dataload_train3,spec_resnet_prod)\n",
    "labels_train4, predicted_train4 = transform(Dataload_train4,spec_resnet_prod)\n",
    "labels_train5, predicted_train5 = transform(Dataload_train5,spec_resnet_prod)\n",
    "labels_train6, predicted_train6 = transform(Dataload_train6,spec_resnet_prod)\n",
    "labels_train7, predicted_train7 = transform(Dataload_train7,spec_resnet_prod)\n",
    "labels_train8, predicted_train8 = transform(Dataload_train8,spec_resnet_prod)\n",
    "labels_train9, predicted_train9 = transform(Dataload_train9,spec_resnet_prod)\n",
    "labels_train10, predicted_train10 = transform(Dataload_train10,spec_resnet_prod)\n",
    "labels_train11, predicted_train11 = transform(Dataload_train11,spec_resnet_prod)\n",
    "labels_train12, predicted_train12 = transform(Dataload_train12,spec_resnet_prod)\n",
    "labels_train13, predicted_train13 = transform(Dataload_train13,spec_resnet_prod)\n",
    "labels_train14, predicted_train14 = transform(Dataload_train14,spec_resnet_prod)\n",
    "labels_train15, predicted_train15 = transform(Dataload_train15,spec_resnet_prod)\n",
    "labels_train16, predicted_train16 = transform(Dataload_train16,spec_resnet_prod)\n",
    "labels_train17, predicted_train17 = transform(Dataload_train17,spec_resnet_prod)\n",
    "labels_train18, predicted_train18 = transform(Dataload_train18,spec_resnet_prod)\n",
    "\n",
    "labels_train = torch.cat([labels_train1, labels_train2,labels_train3,labels_train4, labels_train5,labels_train6,\n",
    "                        labels_train7, labels_train8,labels_train9,labels_train10,labels_train11,\n",
    "                        labels_train12, labels_train13,labels_train14, labels_train15,labels_train16, labels_train17,labels_train18])\n",
    "predicted_train = torch.cat([predicted_train1, predicted_train2,predicted_train3,predicted_train4, predicted_train5,predicted_train6,\n",
    "                           predicted_train7, predicted_train8,predicted_train9, predicted_train10,predicted_train11,predicted_train12, predicted_train13,predicted_train14,\n",
    "                           predicted_train15, predicted_train16,predicted_train17, predicted_train18])\n",
    "labels_train.shape,predicted_train.shape"
   ]
  },
  {
   "cell_type": "markdown",
   "metadata": {},
   "source": [
    "### Confusion Matrix (Trainingsdaten)"
   ]
  },
  {
   "cell_type": "code",
   "execution_count": 26,
   "metadata": {},
   "outputs": [
    {
     "name": "stdout",
     "output_type": "stream",
     "text": [
      "              precision    recall  f1-score   support\n",
      "\n",
      "           0       0.14      0.12      0.13       123\n",
      "           1       0.16      0.09      0.12        64\n",
      "           2       0.20      0.08      0.11       118\n",
      "           3       0.19      0.32      0.24       125\n",
      "           4       0.19      0.39      0.26       121\n",
      "           5       0.15      0.11      0.13       124\n",
      "           6       0.22      0.15      0.18       121\n",
      "           7       0.17      0.13      0.15       122\n",
      "\n",
      "    accuracy                           0.18       918\n",
      "   macro avg       0.18      0.17      0.16       918\n",
      "weighted avg       0.18      0.18      0.17       918\n",
      "\n",
      "Confusion matrix, without normalization\n"
     ]
    },
    {
     "data": {
      "image/png": "[encoded data removed]",
      "text/plain": [
       "<Figure size 432x288 with 2 Axes>"
      ]
     },
     "metadata": {
      "needs_background": "light"
     },
     "output_type": "display_data"
    }
   ],
   "source": [
    "plt.figure()\n",
    "print(classification_report(labels_train, predicted_train))\n",
    "plot_confusion_matrix(confusion_matrix(labels_train, predicted_train), classes=class_names)\n",
    "plt.show()"
   ]
  },
  {
   "cell_type": "markdown",
   "metadata": {},
   "source": [
    "### Test Daten"
   ]
  },
  {
   "cell_type": "code",
   "execution_count": 27,
   "metadata": {},
   "outputs": [
    {
     "data": {
      "text/plain": [
       "(torch.Size([279]), torch.Size([279]))"
      ]
     },
     "execution_count": 27,
     "metadata": {},
     "output_type": "execute_result"
    }
   ],
   "source": [
    "load_test1  = torch.utils.data.Subset(ravdess_test.dataset, range(0, 51-1))\n",
    "load_test2 = torch.utils.data.Subset(ravdess_test.dataset, range(50, 101-1))\n",
    "load_test3 = torch.utils.data.Subset(ravdess_test.dataset, range(100, 151-1))\n",
    "load_test4  = torch.utils.data.Subset(ravdess_test.dataset, range(150, 201-1))\n",
    "load_test5 = torch.utils.data.Subset(ravdess_test.dataset, range(200, 279))\n",
    "Dataload_test1 = DataLoader(load_test1, 50)\n",
    "Dataload_test2 = DataLoader(load_test2, 50 )\n",
    "Dataload_test3 = DataLoader(load_test3, 50 )\n",
    "Dataload_test4 = DataLoader(load_test4, 50 )\n",
    "Dataload_test5 = DataLoader(load_test5, 79 )\n",
    "labels_test1, predicted_test1 = transform(Dataload_test1,spec_resnet_prod)\n",
    "labels_test2, predicted_test2 = transform(Dataload_test2,spec_resnet_prod)\n",
    "labels_test3, predicted_test3 = transform(Dataload_test3,spec_resnet_prod)\n",
    "labels_test4, predicted_test4 = transform(Dataload_test4,spec_resnet_prod)\n",
    "labels_test5, predicted_test5 = transform(Dataload_test5,spec_resnet_prod)\n",
    "labels_test = torch.cat([labels_test1, labels_test2,labels_test3,labels_test4,labels_test5], dim=0)\n",
    "predicted_test = torch.cat([predicted_test1, predicted_test2,predicted_test3, predicted_test4,predicted_test5], dim=0)\n",
    "labels_test.shape,predicted_test.shape"
   ]
  },
  {
   "cell_type": "markdown",
   "metadata": {},
   "source": [
    "### Confusion Matrix (TestDaten)"
   ]
  },
  {
   "cell_type": "code",
   "execution_count": 28,
   "metadata": {},
   "outputs": [
    {
     "name": "stdout",
     "output_type": "stream",
     "text": [
      "              precision    recall  f1-score   support\n",
      "\n",
      "           0       0.26      0.18      0.22        38\n",
      "           1       0.29      0.25      0.27        16\n",
      "           2       0.29      0.12      0.17        43\n",
      "           3       0.25      0.43      0.31        35\n",
      "           4       0.33      0.50      0.40        38\n",
      "           5       0.36      0.38      0.37        34\n",
      "           6       0.25      0.26      0.26        38\n",
      "           7       0.42      0.30      0.35        37\n",
      "\n",
      "    accuracy                           0.30       279\n",
      "   macro avg       0.31      0.30      0.29       279\n",
      "weighted avg       0.31      0.30      0.29       279\n",
      "\n",
      "Confusion matrix, without normalization\n"
     ]
    },
    {
     "data": {
      "image/png": "[encoded data removed]",
      "text/plain": [
       "<Figure size 432x288 with 2 Axes>"
      ]
     },
     "metadata": {
      "needs_background": "light"
     },
     "output_type": "display_data"
    }
   ],
   "source": [
    "plt.figure()\n",
    "print(classification_report(labels_test, predicted_test))\n",
    "plot_confusion_matrix(confusion_matrix(labels_test, predicted_test), classes=class_names)\n",
    "plt.show()"
   ]
  }
 ],
 "metadata": {
  "kernelspec": {
   "display_name": "Python 3",
   "language": "python",
   "name": "python3"
  },
  "language_info": {
   "codemirror_mode": {
    "name": "ipython",
    "version": 3
   },
   "file_extension": ".py",
   "mimetype": "text/x-python",
   "name": "python",
   "nbconvert_exporter": "python",
   "pygments_lexer": "ipython3",
   "version": "3.8.7"
  }
 },
 "nbformat": 4,
 "nbformat_minor": 4
}
